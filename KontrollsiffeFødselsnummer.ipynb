{
 "cells": [
  {
   "cell_type": "code",
   "execution_count": 26,
   "metadata": {
    "ExecuteTime": {
     "end_time": "2021-02-26T14:21:13.804831Z",
     "start_time": "2021-02-26T14:21:13.788349Z"
    }
   },
   "outputs": [],
   "source": [
    "from IPython.display import display\n",
    "from sympy.interactive import printing\n",
    "printing.init_printing(use_latex='mathjax')\n",
    "from sympy import *\n",
    "import sympy as sp\n",
    "import numpy as np\n",
    "import matplotlib.pyplot as plt "
   ]
  },
  {
   "cell_type": "code",
   "execution_count": 81,
   "metadata": {
    "ExecuteTime": {
     "end_time": "2021-02-26T15:06:47.759615Z",
     "start_time": "2021-02-26T15:06:47.739905Z"
    }
   },
   "outputs": [],
   "source": [
    "def KontrollsiffeFødselsnummer():\n",
    "    print('Tast inn din fødselsdatoen din (6 siffer) på formen:ddmmåå?')\n",
    "    fd=input()\n",
    "    print('Tast inn IndividNummeret ditt (3 siffer)?')   \n",
    "    fdList=[]\n",
    "    for ch in fd:\n",
    "        fdList.append(int(ch))\n",
    "    \n",
    "    INList=[]\n",
    "    for ch in IN:\n",
    "        INList.append(int(ch))\n",
    "    KS1=11-((3*fdList[0]+7*fdList[1]+6*fdList[2]+1*fdList[3]+8*fdList[4]+9*fdList[5]+4*INList[0]+5*INList[1]+2*INList[2])%11)\n",
    "    KS2=11-((5*fdList[0]+4*fdList[1]+3*fdList[2]+2*fdList[3]+7*fdList[4]+6*fdList[5]+5*INList[0]+4*INList[1]+3*INList[2]+2*KS1)%11)\n",
    "    return print('Kontrollsifrene i fødselnummeret er:',str(KS1)+str(KS2))"
   ]
  },
  {
   "cell_type": "code",
   "execution_count": 82,
   "metadata": {
    "ExecuteTime": {
     "end_time": "2021-02-26T15:06:55.395862Z",
     "start_time": "2021-02-26T15:06:48.282438Z"
    }
   },
   "outputs": [
    {
     "name": "stdout",
     "output_type": "stream",
     "text": [
      "Tast inn din fødselsdatoen din (6 siffer) på formen:ddmmåå?\n",
      "150989\n",
      "Tast inn IndividNummeret ditt (3 siffer)?\n",
      "<class 'str'>\n",
      "211\n",
      "[1, 5, 0, 9, 8, 9]\n",
      "[2, 1, 1]\n",
      "Kontrollsifrene i fødselnummeret er: 22\n"
     ]
    }
   ],
   "source": [
    " KontrollsiffeFødselsnummer()"
   ]
  },
  {
   "cell_type": "code",
   "execution_count": null,
   "metadata": {},
   "outputs": [],
   "source": []
  }
 ],
 "metadata": {
  "kernelspec": {
   "display_name": "Python 3",
   "language": "python",
   "name": "python3"
  },
  "language_info": {
   "codemirror_mode": {
    "name": "ipython",
    "version": 3
   },
   "file_extension": ".py",
   "mimetype": "text/x-python",
   "name": "python",
   "nbconvert_exporter": "python",
   "pygments_lexer": "ipython3",
   "version": "3.7.7"
  }
 },
 "nbformat": 4,
 "nbformat_minor": 4
}
